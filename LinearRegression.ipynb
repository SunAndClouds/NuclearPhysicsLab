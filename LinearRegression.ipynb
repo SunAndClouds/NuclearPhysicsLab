{
 "cells": [
  {
   "cell_type": "code",
   "execution_count": 36,
   "id": "d14dcb3d-ce35-4ab8-b1b2-502a70e35553",
   "metadata": {},
   "outputs": [
    {
     "data": {
      "text/plain": [
       "[<matplotlib.lines.Line2D at 0x7fb43810d310>]"
      ]
     },
     "execution_count": 36,
     "metadata": {},
     "output_type": "execute_result"
    },
    {
     "data": {
      "image/png": "[encoded data removed]",
      "text/plain": [
       "<Figure size 432x288 with 1 Axes>"
      ]
     },
     "metadata": {
      "needs_background": "light"
     },
     "output_type": "display_data"
    }
   ],
   "source": [
    "import pandas as pd\n",
    "import numpy as np\n",
    "from scipy import stats\n",
    "import matplotlib.pyplot as plt\n",
    "plt.rcParams['lines.linewidth'] = 2\n",
    "\n",
    "\n",
    "path = \"NuclearPhysicsLab/Cu(ny).txt\"\n",
    "data = pd.read_csv(path)\n",
    "x_k, A_k, error_k, t_k = data.keys()\n",
    "x = data[x_k].to_numpy().cumsum()\n",
    "A = data[A_k].to_numpy()\n",
    "error = data[error_k].to_numpy()\n",
    "t = data[t_k].to_numpy()\n",
    "\n",
    "plt.plot(x, A)\n",
    "#slope, intercept, r, p, std_err = stats.linregress(x, y)\n",
    "\n",
    "#print(slope)\n",
    "#print(intercept)"
   ]
  },
  {
   "cell_type": "code",
   "execution_count": 33,
   "id": "34ae5b02-ab3a-450b-8e9a-3d09ef217adf",
   "metadata": {},
   "outputs": [
    {
     "data": {
      "text/html": [
       "<div>\n",
       "<style scoped>\n",
       "    .dataframe tbody tr th:only-of-type {\n",
       "        vertical-align: middle;\n",
       "    }\n",
       "\n",
       "    .dataframe tbody tr th {\n",
       "        vertical-align: top;\n",
       "    }\n",
       "\n",
       "    .dataframe thead th {\n",
       "        text-align: right;\n",
       "    }\n",
       "</style>\n",
       "<table border=\"1\" class=\"dataframe\">\n",
       "  <thead>\n",
       "    <tr style=\"text-align: right;\">\n",
       "      <th></th>\n",
       "      <th>thickness (mm)</th>\n",
       "      <th>Net area</th>\n",
       "      <th>error</th>\n",
       "      <th>live time</th>\n",
       "    </tr>\n",
       "  </thead>\n",
       "  <tbody>\n",
       "    <tr>\n",
       "      <th>0</th>\n",
       "      <td>0.0</td>\n",
       "      <td>0</td>\n",
       "      <td>0</td>\n",
       "      <td>0.00</td>\n",
       "    </tr>\n",
       "    <tr>\n",
       "      <th>1</th>\n",
       "      <td>4.5</td>\n",
       "      <td>90264</td>\n",
       "      <td>750</td>\n",
       "      <td>52.56</td>\n",
       "    </tr>\n",
       "    <tr>\n",
       "      <th>2</th>\n",
       "      <td>4.8</td>\n",
       "      <td>73246</td>\n",
       "      <td>646</td>\n",
       "      <td>54.00</td>\n",
       "    </tr>\n",
       "    <tr>\n",
       "      <th>3</th>\n",
       "      <td>4.8</td>\n",
       "      <td>55818</td>\n",
       "      <td>569</td>\n",
       "      <td>54.96</td>\n",
       "    </tr>\n",
       "    <tr>\n",
       "      <th>4</th>\n",
       "      <td>4.8</td>\n",
       "      <td>1161</td>\n",
       "      <td>688</td>\n",
       "      <td>55.70</td>\n",
       "    </tr>\n",
       "    <tr>\n",
       "      <th>5</th>\n",
       "      <td>4.8</td>\n",
       "      <td>-561</td>\n",
       "      <td>668</td>\n",
       "      <td>56.28</td>\n",
       "    </tr>\n",
       "  </tbody>\n",
       "</table>\n",
       "</div>"
      ],
      "text/plain": [
       "   thickness (mm)  Net area  error  live time\n",
       "0             0.0         0      0       0.00\n",
       "1             4.5     90264    750      52.56\n",
       "2             4.8     73246    646      54.00\n",
       "3             4.8     55818    569      54.96\n",
       "4             4.8      1161    688      55.70\n",
       "5             4.8      -561    668      56.28"
      ]
     },
     "execution_count": 33,
     "metadata": {},
     "output_type": "execute_result"
    }
   ],
   "source": [
    "data"
   ]
  },
  {
   "cell_type": "code",
   "execution_count": null,
   "id": "a860ac68-181f-4846-b3ec-459e552d06ab",
   "metadata": {},
   "outputs": [],
   "source": [
    "plt.figure(figsize=[15, 7])\n",
    "plt.plot(x, y, label=\"log of data\")\n",
    "plt.plot(x, x*slope, label=\"fit\")"
   ]
  },
  {
   "cell_type": "code",
   "execution_count": null,
   "id": "a3c277c0-96c3-41a5-adbc-242a16028004",
   "metadata": {},
   "outputs": [],
   "source": []
  }
 ],
 "metadata": {
  "kernelspec": {
   "display_name": "Python 3",
   "language": "python",
   "name": "python3"
  },
  "language_info": {
   "codemirror_mode": {
    "name": "ipython",
    "version": 3
   },
   "file_extension": ".py",
   "mimetype": "text/x-python",
   "name": "python",
   "nbconvert_exporter": "python",
   "pygments_lexer": "ipython3",
   "version": "3.8.5"
  }
 },
 "nbformat": 4,
 "nbformat_minor": 5
}
